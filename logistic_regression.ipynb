{
 "cells": [
  {
   "cell_type": "code",
   "execution_count": 16,
   "metadata": {},
   "outputs": [],
   "source": [
    "## in logistic regression sigmopid function is used\n",
    "## because its between 0 and 1\n",
    "## and not the tangent loss functionis not used cause in the extrem position the difference between slops \n",
    "##are very low its make the convergence slow\n",
    "## we use cross entropy ot likely hood estimation\n",
    "## loss will be the maximum likelihood algorithm\n",
    "## remember the out put is given (value of y) its like classification\n",
    "## but we want the propability curve"
   ]
  },
  {
   "cell_type": "code",
   "execution_count": 17,
   "metadata": {},
   "outputs": [],
   "source": [
    "## loss = -1*yi*log(h(x))-(1-y)log(1-h(x))"
   ]
  },
  {
   "cell_type": "code",
   "execution_count": 18,
   "metadata": {},
   "outputs": [],
   "source": [
    "## first input the real value / the classification value"
   ]
  },
  {
   "cell_type": "code",
   "execution_count": 19,
   "metadata": {},
   "outputs": [],
   "source": [
    "import tensorflow as tf\n",
    "import numpy as np"
   ]
  },
  {
   "cell_type": "code",
   "execution_count": 20,
   "metadata": {},
   "outputs": [],
   "source": [
    "## create the x \n",
    "N=40\n",
    "x=tf.linspace(0.,5,40)  ## forty number between 0 to 5 with equal distance\n",
    "y=tf.constant([0.,0.,0.,0.,0.,0.,0.,0.,0.,0.,\n",
    "              1.,0.,0.,1.,0.,0.,0.,1.,0.,0.,\n",
    "              1.,0.,1.,1.,1.,1.,1.,1.,1.,1.,\n",
    "              1.,1.,1.,1.,1.,1.,1.,1.,1.,1.])\n",
    "\n",
    "\n",
    "### it is very very important that you use a . after every point other wise the data type will missmatch"
   ]
  },
  {
   "cell_type": "code",
   "execution_count": 21,
   "metadata": {},
   "outputs": [
    {
     "name": "stderr",
     "output_type": "stream",
     "text": [
      "/home/pirate/anaconda2/lib/python2.7/site-packages/tensorflow/python/client/session.py:1702: UserWarning: An interactive session is already active. This can cause out-of-memory errors in some cases. You must explicitly call `InteractiveSession.close()` to release resources held by the other session(s).\n",
      "  warnings.warn('An interactive session is already active. This can '\n"
     ]
    },
    {
     "data": {
      "text/plain": [
       "<matplotlib.collections.PathCollection at 0x7fc534656e50>"
      ]
     },
     "execution_count": 21,
     "metadata": {},
     "output_type": "execute_result"
    },
    {
     "data": {
      "image/png": "[encoded data removed]",
      "text/plain": [
       "<Figure size 432x288 with 1 Axes>"
      ]
     },
     "metadata": {},
     "output_type": "display_data"
    }
   ],
   "source": [
    "## lets plot by creating a interactive session\n",
    "import matplotlib.pyplot as plt\n",
    "sess1 = tf.InteractiveSession()\n",
    "x1=sess1.run(x)\n",
    "y1=sess1.run(y)\n",
    "plt.scatter(x1,y1)"
   ]
  },
  {
   "cell_type": "code",
   "execution_count": 22,
   "metadata": {},
   "outputs": [],
   "source": [
    "## this is the classification /other wise the extreme value of 0 and 1 we need to know the value \n",
    "## between them\n",
    "## create the model whcich is a sigmoid function\n",
    "## we pass the y=mx+b cause we are doing regression and pass it within the sigmoid function\n",
    "## so we can find the probabaility"
   ]
  },
  {
   "cell_type": "markdown",
   "metadata": {},
   "source": [
    "### we need regression so we write y=mx+b and we need value between thew 0 and 1\n",
    "### we need the sigmoid function so we pass the y=mx+b in the sigmoid function"
   ]
  },
  {
   "cell_type": "code",
   "execution_count": 23,
   "metadata": {},
   "outputs": [],
   "source": [
    "m=tf.Variable(tf.random_normal([]))\n",
    "b=tf.Variable(tf.random_normal([]))\n",
    "model = tf.nn.sigmoid(tf.add(tf.multiply(m,x),b))"
   ]
  },
  {
   "cell_type": "code",
   "execution_count": 24,
   "metadata": {},
   "outputs": [],
   "source": [
    "## loss function you can use the RMSE which is not ideal but lets use it\n",
    "loss1 = tf.reduce_mean(tf.pow(model-y,2))\n",
    "\n",
    "## this is the likelyhood estimation model\n",
    "loss2 = -1*tf.reduce_sum(y*tf.log(model)+(1-y)*(1-tf.log(model)))"
   ]
  },
  {
   "cell_type": "code",
   "execution_count": 25,
   "metadata": {},
   "outputs": [],
   "source": [
    "##model and loss now optimizer function \n",
    "## this gradient descent is not very good we can use the cross entropy is better"
   ]
  },
  {
   "cell_type": "code",
   "execution_count": 26,
   "metadata": {},
   "outputs": [],
   "source": [
    "learn_rate=0.005\n",
    "optimizer1 = tf.train.GradientDescentOptimizer(learn_rate).minimize(loss1)\n",
    "optimizer2 = tf.train.GradientDescentOptimizer(learn_rate).minimize(loss2)"
   ]
  },
  {
   "cell_type": "code",
   "execution_count": 27,
   "metadata": {},
   "outputs": [
    {
     "name": "stdout",
     "output_type": "stream",
     "text": [
      "m: 0.35513645\n",
      "b: -0.07850881\n"
     ]
    }
   ],
   "source": [
    "num_epoch = 200\n",
    "## initialize the variable\n",
    "init = tf.global_variables_initializer()\n",
    "## running  the graph\n",
    "with tf.Session() as sess:\n",
    "    sess.run(init)\n",
    "    for epoch in range(num_epoch):\n",
    "        sess.run(optimizer1)\n",
    "        \n",
    "    print(\"m: \"+str(sess.run(m)))\n",
    "    print(\"b: \"+str(sess.run(b)))\n",
    "    "
   ]
  },
  {
   "cell_type": "code",
   "execution_count": null,
   "metadata": {},
   "outputs": [],
   "source": [
    "\n",
    "    "
   ]
  },
  {
   "cell_type": "code",
   "execution_count": null,
   "metadata": {},
   "outputs": [],
   "source": []
  }
 ],
 "metadata": {
  "kernelspec": {
   "display_name": "Python 2",
   "language": "python",
   "name": "python2"
  },
  "language_info": {
   "codemirror_mode": {
    "name": "ipython",
    "version": 2
   },
   "file_extension": ".py",
   "mimetype": "text/x-python",
   "name": "python",
   "nbconvert_exporter": "python",
   "pygments_lexer": "ipython2",
   "version": "2.7.15"
  }
 },
 "nbformat": 4,
 "nbformat_minor": 2
}
