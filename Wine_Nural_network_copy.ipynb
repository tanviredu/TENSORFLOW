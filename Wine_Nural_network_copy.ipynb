{
 "cells": [
  {
   "cell_type": "code",
   "execution_count": 23,
   "metadata": {},
   "outputs": [],
   "source": [
    "import numpy as np\n",
    "import pandas as pd\n",
    "import tensorflow as tf\n",
    "import sklearn\n",
    "from sklearn import datasets\n",
    "import matplotlib.pyplot as plt"
   ]
  },
  {
   "cell_type": "code",
   "execution_count": 24,
   "metadata": {},
   "outputs": [],
   "source": [
    "## import the wine datasets\n",
    "wine_data = datasets.load_wine()\n",
    "feature_matrix,target,feature_name,label_name =wine_data['data'],wine_data['target'],wine_data['feature_names'],wine_data['target_names'] "
   ]
  },
  {
   "cell_type": "code",
   "execution_count": 25,
   "metadata": {},
   "outputs": [],
   "source": [
    "#x_test_norm\n",
    "X = pd.DataFrame(data=feature_matrix,columns=feature_name)\n",
    "Y = pd.DataFrame(data=target,columns=['target'])\n",
    "#x_test_norm\n",
    "#X_train = pd.DataFrame(data=x_test_norm,columns=x_test.columns,index=x_test.index)"
   ]
  },
  {
   "cell_type": "code",
   "execution_count": 26,
   "metadata": {},
   "outputs": [
    {
     "data": {
      "text/html": [
       "<div>\n",
       "<style scoped>\n",
       "    .dataframe tbody tr th:only-of-type {\n",
       "        vertical-align: middle;\n",
       "    }\n",
       "\n",
       "    .dataframe tbody tr th {\n",
       "        vertical-align: top;\n",
       "    }\n",
       "\n",
       "    .dataframe thead th {\n",
       "        text-align: right;\n",
       "    }\n",
       "</style>\n",
       "<table border=\"1\" class=\"dataframe\">\n",
       "  <thead>\n",
       "    <tr style=\"text-align: right;\">\n",
       "      <th></th>\n",
       "      <th>alcohol</th>\n",
       "      <th>malic_acid</th>\n",
       "      <th>ash</th>\n",
       "      <th>alcalinity_of_ash</th>\n",
       "      <th>magnesium</th>\n",
       "      <th>total_phenols</th>\n",
       "      <th>flavanoids</th>\n",
       "      <th>nonflavanoid_phenols</th>\n",
       "      <th>proanthocyanins</th>\n",
       "      <th>color_intensity</th>\n",
       "      <th>hue</th>\n",
       "      <th>od280/od315_of_diluted_wines</th>\n",
       "      <th>proline</th>\n",
       "    </tr>\n",
       "  </thead>\n",
       "  <tbody>\n",
       "    <tr>\n",
       "      <th>0</th>\n",
       "      <td>14.23</td>\n",
       "      <td>1.71</td>\n",
       "      <td>2.43</td>\n",
       "      <td>15.6</td>\n",
       "      <td>127.0</td>\n",
       "      <td>2.80</td>\n",
       "      <td>3.06</td>\n",
       "      <td>0.28</td>\n",
       "      <td>2.29</td>\n",
       "      <td>5.64</td>\n",
       "      <td>1.04</td>\n",
       "      <td>3.92</td>\n",
       "      <td>1065.0</td>\n",
       "    </tr>\n",
       "    <tr>\n",
       "      <th>1</th>\n",
       "      <td>13.20</td>\n",
       "      <td>1.78</td>\n",
       "      <td>2.14</td>\n",
       "      <td>11.2</td>\n",
       "      <td>100.0</td>\n",
       "      <td>2.65</td>\n",
       "      <td>2.76</td>\n",
       "      <td>0.26</td>\n",
       "      <td>1.28</td>\n",
       "      <td>4.38</td>\n",
       "      <td>1.05</td>\n",
       "      <td>3.40</td>\n",
       "      <td>1050.0</td>\n",
       "    </tr>\n",
       "    <tr>\n",
       "      <th>2</th>\n",
       "      <td>13.16</td>\n",
       "      <td>2.36</td>\n",
       "      <td>2.67</td>\n",
       "      <td>18.6</td>\n",
       "      <td>101.0</td>\n",
       "      <td>2.80</td>\n",
       "      <td>3.24</td>\n",
       "      <td>0.30</td>\n",
       "      <td>2.81</td>\n",
       "      <td>5.68</td>\n",
       "      <td>1.03</td>\n",
       "      <td>3.17</td>\n",
       "      <td>1185.0</td>\n",
       "    </tr>\n",
       "    <tr>\n",
       "      <th>3</th>\n",
       "      <td>14.37</td>\n",
       "      <td>1.95</td>\n",
       "      <td>2.50</td>\n",
       "      <td>16.8</td>\n",
       "      <td>113.0</td>\n",
       "      <td>3.85</td>\n",
       "      <td>3.49</td>\n",
       "      <td>0.24</td>\n",
       "      <td>2.18</td>\n",
       "      <td>7.80</td>\n",
       "      <td>0.86</td>\n",
       "      <td>3.45</td>\n",
       "      <td>1480.0</td>\n",
       "    </tr>\n",
       "    <tr>\n",
       "      <th>4</th>\n",
       "      <td>13.24</td>\n",
       "      <td>2.59</td>\n",
       "      <td>2.87</td>\n",
       "      <td>21.0</td>\n",
       "      <td>118.0</td>\n",
       "      <td>2.80</td>\n",
       "      <td>2.69</td>\n",
       "      <td>0.39</td>\n",
       "      <td>1.82</td>\n",
       "      <td>4.32</td>\n",
       "      <td>1.04</td>\n",
       "      <td>2.93</td>\n",
       "      <td>735.0</td>\n",
       "    </tr>\n",
       "  </tbody>\n",
       "</table>\n",
       "</div>"
      ],
      "text/plain": [
       "   alcohol  malic_acid   ash  alcalinity_of_ash  magnesium  total_phenols  \\\n",
       "0    14.23        1.71  2.43               15.6      127.0           2.80   \n",
       "1    13.20        1.78  2.14               11.2      100.0           2.65   \n",
       "2    13.16        2.36  2.67               18.6      101.0           2.80   \n",
       "3    14.37        1.95  2.50               16.8      113.0           3.85   \n",
       "4    13.24        2.59  2.87               21.0      118.0           2.80   \n",
       "\n",
       "   flavanoids  nonflavanoid_phenols  proanthocyanins  color_intensity   hue  \\\n",
       "0        3.06                  0.28             2.29             5.64  1.04   \n",
       "1        2.76                  0.26             1.28             4.38  1.05   \n",
       "2        3.24                  0.30             2.81             5.68  1.03   \n",
       "3        3.49                  0.24             2.18             7.80  0.86   \n",
       "4        2.69                  0.39             1.82             4.32  1.04   \n",
       "\n",
       "   od280/od315_of_diluted_wines  proline  \n",
       "0                          3.92   1065.0  \n",
       "1                          3.40   1050.0  \n",
       "2                          3.17   1185.0  \n",
       "3                          3.45   1480.0  \n",
       "4                          2.93    735.0  "
      ]
     },
     "execution_count": 26,
     "metadata": {},
     "output_type": "execute_result"
    }
   ],
   "source": [
    "X.head()"
   ]
  },
  {
   "cell_type": "code",
   "execution_count": 27,
   "metadata": {},
   "outputs": [
    {
     "data": {
      "text/html": [
       "<div>\n",
       "<style scoped>\n",
       "    .dataframe tbody tr th:only-of-type {\n",
       "        vertical-align: middle;\n",
       "    }\n",
       "\n",
       "    .dataframe tbody tr th {\n",
       "        vertical-align: top;\n",
       "    }\n",
       "\n",
       "    .dataframe thead th {\n",
       "        text-align: right;\n",
       "    }\n",
       "</style>\n",
       "<table border=\"1\" class=\"dataframe\">\n",
       "  <thead>\n",
       "    <tr style=\"text-align: right;\">\n",
       "      <th></th>\n",
       "      <th>target</th>\n",
       "    </tr>\n",
       "  </thead>\n",
       "  <tbody>\n",
       "    <tr>\n",
       "      <th>0</th>\n",
       "      <td>0</td>\n",
       "    </tr>\n",
       "    <tr>\n",
       "      <th>1</th>\n",
       "      <td>0</td>\n",
       "    </tr>\n",
       "    <tr>\n",
       "      <th>2</th>\n",
       "      <td>0</td>\n",
       "    </tr>\n",
       "    <tr>\n",
       "      <th>3</th>\n",
       "      <td>0</td>\n",
       "    </tr>\n",
       "    <tr>\n",
       "      <th>4</th>\n",
       "      <td>0</td>\n",
       "    </tr>\n",
       "  </tbody>\n",
       "</table>\n",
       "</div>"
      ],
      "text/plain": [
       "   target\n",
       "0       0\n",
       "1       0\n",
       "2       0\n",
       "3       0\n",
       "4       0"
      ]
     },
     "execution_count": 27,
     "metadata": {},
     "output_type": "execute_result"
    }
   ],
   "source": [
    "Y.head()"
   ]
  },
  {
   "cell_type": "code",
   "execution_count": 28,
   "metadata": {},
   "outputs": [
    {
     "data": {
      "text/plain": [
       "array([0, 1, 2])"
      ]
     },
     "execution_count": 28,
     "metadata": {},
     "output_type": "execute_result"
    }
   ],
   "source": [
    "np.unique(Y)"
   ]
  },
  {
   "cell_type": "code",
   "execution_count": 29,
   "metadata": {},
   "outputs": [],
   "source": [
    "d={0:'class_0',1:'class_1',2:'class_2'}\n",
    "Y_str = Y['target'].map(d)"
   ]
  },
  {
   "cell_type": "code",
   "execution_count": 30,
   "metadata": {},
   "outputs": [
    {
     "data": {
      "text/plain": [
       "0    class_0\n",
       "1    class_0\n",
       "2    class_0\n",
       "3    class_0\n",
       "4    class_0\n",
       "Name: target, dtype: object"
      ]
     },
     "execution_count": 30,
     "metadata": {},
     "output_type": "execute_result"
    }
   ],
   "source": [
    "Y_str.head()"
   ]
  },
  {
   "cell_type": "code",
   "execution_count": 31,
   "metadata": {},
   "outputs": [],
   "source": [
    "## normalize all the data\n",
    "def normalize(df):\n",
    "    result = df.copy()\n",
    "    for feature_name in df.columns:\n",
    "        max_value = df[feature_name].max()\n",
    "        min_value = df[feature_name].min()\n",
    "        result[feature_name] = (df[feature_name] - min_value) / (max_value - min_value)\n",
    "    return result\n"
   ]
  },
  {
   "cell_type": "code",
   "execution_count": 32,
   "metadata": {},
   "outputs": [],
   "source": [
    "X_norm = normalize(X)"
   ]
  },
  {
   "cell_type": "code",
   "execution_count": 33,
   "metadata": {},
   "outputs": [
    {
     "data": {
      "text/html": [
       "<div>\n",
       "<style scoped>\n",
       "    .dataframe tbody tr th:only-of-type {\n",
       "        vertical-align: middle;\n",
       "    }\n",
       "\n",
       "    .dataframe tbody tr th {\n",
       "        vertical-align: top;\n",
       "    }\n",
       "\n",
       "    .dataframe thead th {\n",
       "        text-align: right;\n",
       "    }\n",
       "</style>\n",
       "<table border=\"1\" class=\"dataframe\">\n",
       "  <thead>\n",
       "    <tr style=\"text-align: right;\">\n",
       "      <th></th>\n",
       "      <th>alcohol</th>\n",
       "      <th>malic_acid</th>\n",
       "      <th>ash</th>\n",
       "      <th>alcalinity_of_ash</th>\n",
       "      <th>magnesium</th>\n",
       "      <th>total_phenols</th>\n",
       "      <th>flavanoids</th>\n",
       "      <th>nonflavanoid_phenols</th>\n",
       "      <th>proanthocyanins</th>\n",
       "      <th>color_intensity</th>\n",
       "      <th>hue</th>\n",
       "      <th>od280/od315_of_diluted_wines</th>\n",
       "      <th>proline</th>\n",
       "    </tr>\n",
       "  </thead>\n",
       "  <tbody>\n",
       "    <tr>\n",
       "      <th>0</th>\n",
       "      <td>0.842105</td>\n",
       "      <td>0.191700</td>\n",
       "      <td>0.572193</td>\n",
       "      <td>0.257732</td>\n",
       "      <td>0.619565</td>\n",
       "      <td>0.627586</td>\n",
       "      <td>0.573840</td>\n",
       "      <td>0.283019</td>\n",
       "      <td>0.593060</td>\n",
       "      <td>0.372014</td>\n",
       "      <td>0.455285</td>\n",
       "      <td>0.970696</td>\n",
       "      <td>0.561341</td>\n",
       "    </tr>\n",
       "    <tr>\n",
       "      <th>1</th>\n",
       "      <td>0.571053</td>\n",
       "      <td>0.205534</td>\n",
       "      <td>0.417112</td>\n",
       "      <td>0.030928</td>\n",
       "      <td>0.326087</td>\n",
       "      <td>0.575862</td>\n",
       "      <td>0.510549</td>\n",
       "      <td>0.245283</td>\n",
       "      <td>0.274448</td>\n",
       "      <td>0.264505</td>\n",
       "      <td>0.463415</td>\n",
       "      <td>0.780220</td>\n",
       "      <td>0.550642</td>\n",
       "    </tr>\n",
       "    <tr>\n",
       "      <th>2</th>\n",
       "      <td>0.560526</td>\n",
       "      <td>0.320158</td>\n",
       "      <td>0.700535</td>\n",
       "      <td>0.412371</td>\n",
       "      <td>0.336957</td>\n",
       "      <td>0.627586</td>\n",
       "      <td>0.611814</td>\n",
       "      <td>0.320755</td>\n",
       "      <td>0.757098</td>\n",
       "      <td>0.375427</td>\n",
       "      <td>0.447154</td>\n",
       "      <td>0.695971</td>\n",
       "      <td>0.646933</td>\n",
       "    </tr>\n",
       "    <tr>\n",
       "      <th>3</th>\n",
       "      <td>0.878947</td>\n",
       "      <td>0.239130</td>\n",
       "      <td>0.609626</td>\n",
       "      <td>0.319588</td>\n",
       "      <td>0.467391</td>\n",
       "      <td>0.989655</td>\n",
       "      <td>0.664557</td>\n",
       "      <td>0.207547</td>\n",
       "      <td>0.558360</td>\n",
       "      <td>0.556314</td>\n",
       "      <td>0.308943</td>\n",
       "      <td>0.798535</td>\n",
       "      <td>0.857347</td>\n",
       "    </tr>\n",
       "    <tr>\n",
       "      <th>4</th>\n",
       "      <td>0.581579</td>\n",
       "      <td>0.365613</td>\n",
       "      <td>0.807487</td>\n",
       "      <td>0.536082</td>\n",
       "      <td>0.521739</td>\n",
       "      <td>0.627586</td>\n",
       "      <td>0.495781</td>\n",
       "      <td>0.490566</td>\n",
       "      <td>0.444795</td>\n",
       "      <td>0.259386</td>\n",
       "      <td>0.455285</td>\n",
       "      <td>0.608059</td>\n",
       "      <td>0.325963</td>\n",
       "    </tr>\n",
       "  </tbody>\n",
       "</table>\n",
       "</div>"
      ],
      "text/plain": [
       "    alcohol  malic_acid       ash  alcalinity_of_ash  magnesium  \\\n",
       "0  0.842105    0.191700  0.572193           0.257732   0.619565   \n",
       "1  0.571053    0.205534  0.417112           0.030928   0.326087   \n",
       "2  0.560526    0.320158  0.700535           0.412371   0.336957   \n",
       "3  0.878947    0.239130  0.609626           0.319588   0.467391   \n",
       "4  0.581579    0.365613  0.807487           0.536082   0.521739   \n",
       "\n",
       "   total_phenols  flavanoids  nonflavanoid_phenols  proanthocyanins  \\\n",
       "0       0.627586    0.573840              0.283019         0.593060   \n",
       "1       0.575862    0.510549              0.245283         0.274448   \n",
       "2       0.627586    0.611814              0.320755         0.757098   \n",
       "3       0.989655    0.664557              0.207547         0.558360   \n",
       "4       0.627586    0.495781              0.490566         0.444795   \n",
       "\n",
       "   color_intensity       hue  od280/od315_of_diluted_wines   proline  \n",
       "0         0.372014  0.455285                      0.970696  0.561341  \n",
       "1         0.264505  0.463415                      0.780220  0.550642  \n",
       "2         0.375427  0.447154                      0.695971  0.646933  \n",
       "3         0.556314  0.308943                      0.798535  0.857347  \n",
       "4         0.259386  0.455285                      0.608059  0.325963  "
      ]
     },
     "execution_count": 33,
     "metadata": {},
     "output_type": "execute_result"
    }
   ],
   "source": [
    "X_norm.head()"
   ]
  },
  {
   "cell_type": "code",
   "execution_count": 35,
   "metadata": {},
   "outputs": [
    {
     "data": {
      "text/html": [
       "<div>\n",
       "<style scoped>\n",
       "    .dataframe tbody tr th:only-of-type {\n",
       "        vertical-align: middle;\n",
       "    }\n",
       "\n",
       "    .dataframe tbody tr th {\n",
       "        vertical-align: top;\n",
       "    }\n",
       "\n",
       "    .dataframe thead th {\n",
       "        text-align: right;\n",
       "    }\n",
       "</style>\n",
       "<table border=\"1\" class=\"dataframe\">\n",
       "  <thead>\n",
       "    <tr style=\"text-align: right;\">\n",
       "      <th></th>\n",
       "      <th>target</th>\n",
       "    </tr>\n",
       "  </thead>\n",
       "  <tbody>\n",
       "    <tr>\n",
       "      <th>0</th>\n",
       "      <td>0</td>\n",
       "    </tr>\n",
       "    <tr>\n",
       "      <th>1</th>\n",
       "      <td>0</td>\n",
       "    </tr>\n",
       "    <tr>\n",
       "      <th>2</th>\n",
       "      <td>0</td>\n",
       "    </tr>\n",
       "    <tr>\n",
       "      <th>3</th>\n",
       "      <td>0</td>\n",
       "    </tr>\n",
       "    <tr>\n",
       "      <th>4</th>\n",
       "      <td>0</td>\n",
       "    </tr>\n",
       "  </tbody>\n",
       "</table>\n",
       "</div>"
      ],
      "text/plain": [
       "   target\n",
       "0       0\n",
       "1       0\n",
       "2       0\n",
       "3       0\n",
       "4       0"
      ]
     },
     "execution_count": 35,
     "metadata": {},
     "output_type": "execute_result"
    }
   ],
   "source": [
    "Y.head()"
   ]
  },
  {
   "cell_type": "code",
   "execution_count": 39,
   "metadata": {},
   "outputs": [],
   "source": [
    "### train and test split\n",
    "from sklearn.model_selection import train_test_split\n",
    "x_train,x_test,y_train,y_test = train_test_split(X_norm,Y,test_size=0.3)"
   ]
  },
  {
   "cell_type": "code",
   "execution_count": 40,
   "metadata": {},
   "outputs": [
    {
     "name": "stdout",
     "output_type": "stream",
     "text": [
      "(124, 13)\n",
      "(54, 13)\n",
      "(124, 1)\n",
      "(54, 1)\n"
     ]
    }
   ],
   "source": [
    "print(x_train.shape)\n",
    "print(x_test.shape)\n",
    "print(y_train.shape)\n",
    "print(y_test.shape)"
   ]
  },
  {
   "cell_type": "code",
   "execution_count": 41,
   "metadata": {},
   "outputs": [],
   "source": [
    "## we are adding sequental model nor convnet\n",
    "\n",
    "model = tf.keras.models.Sequential() ## making th sequental model\n",
    "## add layer we have to change the shape with flatten\n",
    "model.add(tf.keras.layers.Flatten())\n",
    "## perceptron 128 per layer actication function rectified linear\n",
    "model.add(tf.keras.layers.Dense(128,activation=tf.nn.relu))\n",
    "model.add(tf.keras.layers.Dense(128,activation=tf.nn.relu))\n",
    "model.add(tf.keras.layers.Dense(128,activation=tf.nn.relu))\n",
    "model.add(tf.keras.layers.Dense(128,activation=tf.nn.relu))\n",
    "## final activation function softmax and 3 cause data will be 3 catagory\n",
    "model.add(tf.keras.layers.Dense(3,activation=tf.nn.softmax))\n"
   ]
  },
  {
   "cell_type": "code",
   "execution_count": 43,
   "metadata": {},
   "outputs": [],
   "source": [
    "## giving losss and optimizer\n",
    "\n",
    "model.compile(optimizer='adam',loss='sparse_categorical_crossentropy',metrics=['accuracy'])"
   ]
  },
  {
   "cell_type": "code",
   "execution_count": 44,
   "metadata": {},
   "outputs": [
    {
     "name": "stdout",
     "output_type": "stream",
     "text": [
      "Epoch 1/30\n",
      "124/124 [==============================] - 2s 13ms/sample - loss: 1.0732 - acc: 0.3306\n",
      "Epoch 2/30\n",
      "124/124 [==============================] - 0s 346us/sample - loss: 0.9769 - acc: 0.4839\n",
      "Epoch 3/30\n",
      "124/124 [==============================] - 0s 325us/sample - loss: 0.8753 - acc: 0.7339\n",
      "Epoch 4/30\n",
      "124/124 [==============================] - 0s 383us/sample - loss: 0.7473 - acc: 0.8871\n",
      "Epoch 5/30\n",
      "124/124 [==============================] - 0s 326us/sample - loss: 0.5960 - acc: 0.9597\n",
      "Epoch 6/30\n",
      "124/124 [==============================] - 0s 379us/sample - loss: 0.4306 - acc: 0.9677\n",
      "Epoch 7/30\n",
      "124/124 [==============================] - 0s 328us/sample - loss: 0.2857 - acc: 0.9758\n",
      "Epoch 8/30\n",
      "124/124 [==============================] - 0s 358us/sample - loss: 0.1857 - acc: 0.9597\n",
      "Epoch 9/30\n",
      "124/124 [==============================] - 0s 342us/sample - loss: 0.1244 - acc: 0.9758\n",
      "Epoch 10/30\n",
      "124/124 [==============================] - 0s 348us/sample - loss: 0.0970 - acc: 0.9758\n",
      "Epoch 11/30\n",
      "124/124 [==============================] - 0s 335us/sample - loss: 0.0693 - acc: 0.9839\n",
      "Epoch 12/30\n",
      "124/124 [==============================] - 0s 344us/sample - loss: 0.0561 - acc: 0.9839\n",
      "Epoch 13/30\n",
      "124/124 [==============================] - 0s 399us/sample - loss: 0.0396 - acc: 0.9919\n",
      "Epoch 14/30\n",
      "124/124 [==============================] - 0s 536us/sample - loss: 0.0328 - acc: 1.0000\n",
      "Epoch 15/30\n",
      "124/124 [==============================] - 0s 444us/sample - loss: 0.0226 - acc: 0.9919\n",
      "Epoch 16/30\n",
      "124/124 [==============================] - 0s 373us/sample - loss: 0.0183 - acc: 1.0000\n",
      "Epoch 17/30\n",
      "124/124 [==============================] - 0s 394us/sample - loss: 0.0161 - acc: 1.0000\n",
      "Epoch 18/30\n",
      "124/124 [==============================] - 0s 333us/sample - loss: 0.0147 - acc: 1.0000\n",
      "Epoch 19/30\n",
      "124/124 [==============================] - 0s 420us/sample - loss: 0.0098 - acc: 1.0000\n",
      "Epoch 20/30\n",
      "124/124 [==============================] - 0s 418us/sample - loss: 0.0090 - acc: 1.0000\n",
      "Epoch 21/30\n",
      "124/124 [==============================] - 0s 456us/sample - loss: 0.0115 - acc: 1.0000\n",
      "Epoch 22/30\n",
      "124/124 [==============================] - 0s 473us/sample - loss: 0.0090 - acc: 1.0000\n",
      "Epoch 23/30\n",
      "124/124 [==============================] - 0s 362us/sample - loss: 0.0080 - acc: 1.0000\n",
      "Epoch 24/30\n",
      "124/124 [==============================] - 0s 343us/sample - loss: 0.0044 - acc: 1.0000\n",
      "Epoch 25/30\n",
      "124/124 [==============================] - 0s 445us/sample - loss: 0.0048 - acc: 1.0000\n",
      "Epoch 26/30\n",
      "124/124 [==============================] - 0s 498us/sample - loss: 0.0036 - acc: 1.0000\n",
      "Epoch 27/30\n",
      "124/124 [==============================] - 0s 504us/sample - loss: 0.0046 - acc: 1.0000\n",
      "Epoch 28/30\n",
      "124/124 [==============================] - 0s 488us/sample - loss: 0.0033 - acc: 1.0000\n",
      "Epoch 29/30\n",
      "124/124 [==============================] - 0s 318us/sample - loss: 0.0030 - acc: 1.0000\n",
      "Epoch 30/30\n",
      "124/124 [==============================] - 0s 373us/sample - loss: 0.0024 - acc: 1.0000\n"
     ]
    },
    {
     "data": {
      "text/plain": [
       "<tensorflow.python.keras.callbacks.History at 0x7f51b2efc1d0>"
      ]
     },
     "execution_count": 44,
     "metadata": {},
     "output_type": "execute_result"
    }
   ],
   "source": [
    "model.fit(np.array(x_train),np.array(y_train),epochs=30)"
   ]
  },
  {
   "cell_type": "code",
   "execution_count": 45,
   "metadata": {},
   "outputs": [
    {
     "name": "stdout",
     "output_type": "stream",
     "text": [
      "54/54 [==============================] - 0s 4ms/sample - loss: 0.0692 - acc: 0.9630\n"
     ]
    }
   ],
   "source": [
    "loss,acc=model.evaluate(x_test,y_test)"
   ]
  },
  {
   "cell_type": "code",
   "execution_count": 46,
   "metadata": {},
   "outputs": [
    {
     "name": "stdout",
     "output_type": "stream",
     "text": [
      "LOSS : 0.06923694020413139\n",
      "ACCURACY : 0.962963\n"
     ]
    }
   ],
   "source": [
    "print (\"LOSS : \"+str(loss))\n",
    "print (\"ACCURACY : \"+str(acc))"
   ]
  },
  {
   "cell_type": "code",
   "execution_count": 49,
   "metadata": {},
   "outputs": [],
   "source": [
    "## make prediction\n",
    "prediction=model.predict([x_test])\n",
    "real_value = np.array(y_test)"
   ]
  },
  {
   "cell_type": "code",
   "execution_count": 50,
   "metadata": {},
   "outputs": [],
   "source": [
    "def transform(num):\n",
    "    if num==0:\n",
    "        return 'class_0'\n",
    "    elif num==1:\n",
    "        return 'class_1'\n",
    "    else:\n",
    "        return 'class_2'\n",
    "\n",
    "\n",
    "def test():\n",
    "    data=np.random.randint(0,10)\n",
    "    print (\"Prediction :\"+str(transform(np.argmax(prediction[data]))))\n",
    "    print(\"Actual Value :\"+str(transform(real_value[data][0])))"
   ]
  },
  {
   "cell_type": "code",
   "execution_count": 55,
   "metadata": {},
   "outputs": [
    {
     "name": "stdout",
     "output_type": "stream",
     "text": [
      "----------\n",
      "Prediction :class_1\n",
      "Actual Value :class_1\n",
      "----------\n",
      "Prediction :class_0\n",
      "Actual Value :class_0\n",
      "----------\n",
      "Prediction :class_0\n",
      "Actual Value :class_0\n",
      "----------\n",
      "Prediction :class_2\n",
      "Actual Value :class_2\n",
      "----------\n",
      "Prediction :class_1\n",
      "Actual Value :class_1\n",
      "----------\n",
      "Prediction :class_2\n",
      "Actual Value :class_1\n",
      "----------\n",
      "Prediction :class_1\n",
      "Actual Value :class_1\n",
      "----------\n",
      "Prediction :class_2\n",
      "Actual Value :class_2\n",
      "----------\n",
      "Prediction :class_1\n",
      "Actual Value :class_1\n",
      "----------\n",
      "Prediction :class_0\n",
      "Actual Value :class_0\n",
      "----------\n",
      "Prediction :class_2\n",
      "Actual Value :class_1\n",
      "----------\n",
      "Prediction :class_1\n",
      "Actual Value :class_1\n",
      "----------\n",
      "Prediction :class_1\n",
      "Actual Value :class_1\n",
      "----------\n",
      "Prediction :class_1\n",
      "Actual Value :class_1\n",
      "----------\n",
      "Prediction :class_1\n",
      "Actual Value :class_1\n",
      "----------\n",
      "Prediction :class_2\n",
      "Actual Value :class_2\n",
      "----------\n",
      "Prediction :class_2\n",
      "Actual Value :class_1\n",
      "----------\n",
      "Prediction :class_1\n",
      "Actual Value :class_1\n",
      "----------\n",
      "Prediction :class_2\n",
      "Actual Value :class_2\n",
      "----------\n",
      "Prediction :class_2\n",
      "Actual Value :class_2\n"
     ]
    }
   ],
   "source": [
    "for item in range(20):\n",
    "    print \"-\"*10\n",
    "    test()\n",
    "    "
   ]
  },
  {
   "cell_type": "code",
   "execution_count": null,
   "metadata": {},
   "outputs": [],
   "source": []
  },
  {
   "cell_type": "code",
   "execution_count": null,
   "metadata": {},
   "outputs": [],
   "source": []
  }
 ],
 "metadata": {
  "kernelspec": {
   "display_name": "Python 2",
   "language": "python",
   "name": "python2"
  },
  "language_info": {
   "codemirror_mode": {
    "name": "ipython",
    "version": 2
   },
   "file_extension": ".py",
   "mimetype": "text/x-python",
   "name": "python",
   "nbconvert_exporter": "python",
   "pygments_lexer": "ipython2",
   "version": "2.7.15"
  }
 },
 "nbformat": 4,
 "nbformat_minor": 2
}
