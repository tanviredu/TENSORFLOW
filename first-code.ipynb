{
 "cells": [
  {
   "cell_type": "code",
   "execution_count": 1,
   "metadata": {},
   "outputs": [
    {
     "name": "stderr",
     "output_type": "stream",
     "text": [
      "/home/pirate/anaconda2/lib/python2.7/site-packages/h5py/__init__.py:36: FutureWarning: Conversion of the second argument of issubdtype from `float` to `np.floating` is deprecated. In future, it will be treated as `np.float64 == np.dtype(float).type`.\n",
      "  from ._conv import register_converters as _register_converters\n"
     ]
    }
   ],
   "source": [
    "import numpy as np\n",
    "import pandas as pd\n",
    "import tensorflow as tf"
   ]
  },
  {
   "cell_type": "code",
   "execution_count": 2,
   "metadata": {},
   "outputs": [
    {
     "name": "stdout",
     "output_type": "stream",
     "text": [
      "WARNING:tensorflow:From <ipython-input-2-3a60242c6e97>:7: div (from tensorflow.python.ops.math_ops) is deprecated and will be removed in a future version.\n",
      "Instructions for updating:\n",
      "Deprecated in favor of operator or tf.math.divide.\n"
     ]
    }
   ],
   "source": [
    "## math with constant\n",
    "const_a = tf.constant(3.0)\n",
    "const_b = tf.constant(1.2)\n",
    "total = const_a+const_b\n",
    "\n",
    "## two place holder one model\n",
    "div = tf.div(const_a,const_b)\n",
    "\n"
   ]
  },
  {
   "cell_type": "code",
   "execution_count": 35,
   "metadata": {},
   "outputs": [],
   "source": [
    "\n",
    "## math with random tensorflow\n",
    "rand_a = tf.random_normal([100])\n",
    "rand_b = tf.random_uniform([100])\n",
    "import matplotlib.pyplot as plt\n",
    "%matplotlib inline"
   ]
  },
  {
   "cell_type": "code",
   "execution_count": 36,
   "metadata": {},
   "outputs": [
    {
     "data": {
      "image/png": "[encoded data removed]",
      "text/plain": [
       "<Figure size 432x288 with 1 Axes>"
      ]
     },
     "metadata": {},
     "output_type": "display_data"
    }
   ],
   "source": [
    "with tf.Session() as sess:\n",
    "    ans1=sess.run(rand_a)\n",
    "    plt.hist(ans1)"
   ]
  },
  {
   "cell_type": "code",
   "execution_count": 37,
   "metadata": {},
   "outputs": [
    {
     "data": {
      "image/png": "[encoded data removed]",
      "text/plain": [
       "<Figure size 432x288 with 1 Axes>"
      ]
     },
     "metadata": {},
     "output_type": "display_data"
    }
   ],
   "source": [
    "with tf.Session() as sess:\n",
    "    ans2=sess.run(rand_b)\n",
    "    plt.hist(ans2)"
   ]
  },
  {
   "cell_type": "code",
   "execution_count": 52,
   "metadata": {},
   "outputs": [
    {
     "name": "stdout",
     "output_type": "stream",
     "text": [
      "[0. 1. 2. 3.]\n",
      "[[2.]\n",
      " [2.]\n",
      " [2.]\n",
      " [2.]]\n",
      "[[0. 2. 4. 6.]\n",
      " [0. 2. 4. 6.]\n",
      " [0. 2. 4. 6.]\n",
      " [0. 2. 4. 6.]]\n",
      "[12.]\n"
     ]
    }
   ],
   "source": [
    "## subtract option\n",
    "## model\n",
    "vector1=tf.linspace(0.0,3.0,4)\n",
    "vector2=tf.fill([4,1],2.0)\n",
    "prod = tf.multiply(vector1,vector2)\n",
    "dot = tf.tensordot(vector1,vector2,1)\n",
    "with tf.Session() as sess:\n",
    "    vec1=sess.run(vector1)\n",
    "    vec2=sess.run(vector2)\n",
    "    prod1=sess.run(prod)\n",
    "    dot1 = sess.run(dot)\n",
    "    print(vec1)\n",
    "    print(vec2)\n",
    "    print prod1\n",
    "    print dot1"
   ]
  },
  {
   "cell_type": "code",
   "execution_count": 54,
   "metadata": {},
   "outputs": [
    {
     "name": "stdout",
     "output_type": "stream",
     "text": [
      "[[2 3]\n",
      " [1 2]\n",
      " [4 5]]\n",
      "[[6 4 1]\n",
      " [3 7 2]]\n"
     ]
    }
   ],
   "source": [
    "### matrix multiplaication\n",
    "\n",
    "mat1 = tf.constant([[2,3],[1,2],[4,5]])\n",
    "mat2 = tf.constant([[6,4,1],[3,7,2]])\n",
    "with tf.Session() as sess:\n",
    "    res1=sess.run(mat1)\n",
    "    res2=sess.run(mat2)\n",
    "    print res1\n",
    "    print res2"
   ]
  },
  {
   "cell_type": "code",
   "execution_count": 62,
   "metadata": {},
   "outputs": [],
   "source": [
    "sess=tf.InteractiveSession()"
   ]
  },
  {
   "cell_type": "markdown",
   "metadata": {},
   "source": [
    "## logging info result print"
   ]
  },
  {
   "cell_type": "code",
   "execution_count": 64,
   "metadata": {},
   "outputs": [
    {
     "name": "stdout",
     "output_type": "stream",
     "text": [
      "INFO:tensorflow:Output 4.200000\n"
     ]
    }
   ],
   "source": [
    "tf.logging.set_verbosity(tf.logging.INFO)\n",
    "t1 = tf.constant(1.2)\n",
    "t2 = tf.constant(3.5)\n",
    "prod = tf.multiply(t1,t2)\n",
    "out = sess.run(prod)\n",
    "tf.logging.info(\"Output %f\",out)"
   ]
  },
  {
   "cell_type": "code",
   "execution_count": 65,
   "metadata": {},
   "outputs": [
    {
     "data": {
      "text/plain": [
       "6.0"
      ]
     },
     "execution_count": 65,
     "metadata": {},
     "output_type": "execute_result"
    }
   ],
   "source": []
  },
  {
   "cell_type": "code",
   "execution_count": 75,
   "metadata": {},
   "outputs": [],
   "source": [
    "a=tf.constant(2.5)\n",
    "b=tf.constant(3.5)\n",
    "total = a+b\n",
    "sess.run(total)\n",
    "tf.summary.scalar(\"a\",a)\n",
    "tf.summary.scalar(\"b\",b)\n",
    "tf.summary.scalar(\"total\",total)\n",
    "merged_op = tf.summary.merge_all()\n",
    "summery=sess.run(merged_op)"
   ]
  },
  {
   "cell_type": "code",
   "execution_count": 78,
   "metadata": {},
   "outputs": [],
   "source": [
    "## this is used for creating summery data"
   ]
  },
  {
   "cell_type": "code",
   "execution_count": null,
   "metadata": {},
   "outputs": [],
   "source": []
  },
  {
   "cell_type": "code",
   "execution_count": null,
   "metadata": {},
   "outputs": [],
   "source": []
  }
 ],
 "metadata": {
  "kernelspec": {
   "display_name": "Python 2",
   "language": "python",
   "name": "python2"
  },
  "language_info": {
   "codemirror_mode": {
    "name": "ipython",
    "version": 2
   },
   "file_extension": ".py",
   "mimetype": "text/x-python",
   "name": "python",
   "nbconvert_exporter": "python",
   "pygments_lexer": "ipython2",
   "version": "2.7.15"
  }
 },
 "nbformat": 4,
 "nbformat_minor": 2
}
