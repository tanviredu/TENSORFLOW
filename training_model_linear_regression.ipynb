{
 "cells": [
  {
   "cell_type": "code",
   "execution_count": 1,
   "metadata": {},
   "outputs": [],
   "source": [
    "## for training we need variable that is works as a weight \n",
    "## that can be changed over time using optimizer"
   ]
  },
  {
   "cell_type": "code",
   "execution_count": 54,
   "metadata": {},
   "outputs": [],
   "source": [
    "import tensorflow as tf\n",
    "import matplotlib.pyplot as plt\n",
    "sess1 = tf.InteractiveSession()\n",
    "#sess1.close()"
   ]
  },
  {
   "cell_type": "code",
   "execution_count": 55,
   "metadata": {},
   "outputs": [
    {
     "data": {
      "text/plain": [
       "<matplotlib.collections.PathCollection at 0x7f61dad29f90>"
      ]
     },
     "execution_count": 55,
     "metadata": {},
     "output_type": "execute_result"
    },
    {
     "data": {
      "image/png": "[encoded data removed]",
      "text/plain": [
       "<Figure size 432x288 with 1 Axes>"
      ]
     },
     "metadata": {},
     "output_type": "display_data"
    }
   ],
   "source": [
    "## this is the real value\n",
    "M = 40\n",
    "x=tf.random_normal([M])\n",
    "m_real = tf.truncated_normal([M])\n",
    "b_real = tf.truncated_normal([M])\n",
    "y=m_real*x+b_real\n",
    "x1=sess1.run(x)\n",
    "y1=sess1.run(y)\n",
    "plt.scatter(x1,y1)"
   ]
  },
  {
   "cell_type": "code",
   "execution_count": 44,
   "metadata": {},
   "outputs": [],
   "source": [
    "## y=mx+b with loss function and the optimizer\n",
    "#m and the b is the weight hence the variable\n",
    "## we have to guess at the first so it is random \n",
    "## first random input value\n",
    "m = tf.Variable(tf.random_normal([]))\n",
    "b = tf.Variable(tf.random_normal([]))\n",
    "\n",
    "model = tf.add(tf.multiply(m,x),b)\n",
    "loss = tf.reduce_mean(tf.pow(y-model,2))\n",
    "## now models are place holder\n",
    "##x is  a variable so it has to ba a placeholder\n"
   ]
  },
  {
   "cell_type": "code",
   "execution_count": 45,
   "metadata": {},
   "outputs": [],
   "source": [
    "## create the optimizer\n",
    "learn_rate = 0.1\n",
    "num_epoch = 200\n",
    "num_batches = M"
   ]
  },
  {
   "cell_type": "code",
   "execution_count": 48,
   "metadata": {},
   "outputs": [],
   "source": [
    "## create the optimizer\n",
    "optimizer = tf.train.GradientDescentOptimizer(learn_rate).minimize(loss)"
   ]
  },
  {
   "cell_type": "code",
   "execution_count": null,
   "metadata": {},
   "outputs": [],
   "source": []
  },
  {
   "cell_type": "code",
   "execution_count": 49,
   "metadata": {},
   "outputs": [],
   "source": [
    "## inittialize the variable\n",
    "init = tf.global_variables_initializer()"
   ]
  },
  {
   "cell_type": "code",
   "execution_count": 57,
   "metadata": {},
   "outputs": [
    {
     "name": "stdout",
     "output_type": "stream",
     "text": [
      "('m  :', -0.025956992)\n",
      "('b  :', -0.13395174)\n"
     ]
    }
   ],
   "source": [
    "with tf.Session() as sess:\n",
    "    sess.run(init) ## init the variable in the graph\n",
    "    for epoch in range(num_epoch):\n",
    "        for batch in range(num_batches):\n",
    "            sess.run(optimizer)\n",
    "    print (\"m  :\",sess.run(m))\n",
    "    print (\"b  :\",(sess.run(b)))\n"
   ]
  },
  {
   "cell_type": "code",
   "execution_count": null,
   "metadata": {},
   "outputs": [],
   "source": []
  },
  {
   "cell_type": "code",
   "execution_count": null,
   "metadata": {},
   "outputs": [],
   "source": []
  }
 ],
 "metadata": {
  "kernelspec": {
   "display_name": "Python 2",
   "language": "python",
   "name": "python2"
  },
  "language_info": {
   "codemirror_mode": {
    "name": "ipython",
    "version": 2
   },
   "file_extension": ".py",
   "mimetype": "text/x-python",
   "name": "python",
   "nbconvert_exporter": "python",
   "pygments_lexer": "ipython2",
   "version": "2.7.15"
  }
 },
 "nbformat": 4,
 "nbformat_minor": 2
}
