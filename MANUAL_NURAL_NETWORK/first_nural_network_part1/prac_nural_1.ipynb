{
 "cells": [
  {
   "cell_type": "markdown",
   "metadata": {},
   "source": [
    "## practical nural network"
   ]
  },
  {
   "cell_type": "code",
   "execution_count": 1,
   "metadata": {},
   "outputs": [
    {
     "name": "stderr",
     "output_type": "stream",
     "text": [
      "/home/pirate/anaconda2/lib/python2.7/site-packages/h5py/__init__.py:36: FutureWarning: Conversion of the second argument of issubdtype from `float` to `np.floating` is deprecated. In future, it will be treated as `np.float64 == np.dtype(float).type`.\n",
      "  from ._conv import register_converters as _register_converters\n"
     ]
    }
   ],
   "source": [
    "import numpy as np\n",
    "import tensorflow as tf"
   ]
  },
  {
   "cell_type": "code",
   "execution_count": 2,
   "metadata": {},
   "outputs": [],
   "source": [
    "## how many feature the data has\n",
    "n_features = 10\n",
    "## how many nurons in the layers\n",
    "n_dense_nurons  =3\n",
    "# placeholder create\n",
    "x = tf.placeholder(tf.float32,(None,n_features))## none is for shape \n",
    "                                            ## and n_features is for the num of feature\n",
    "                                            ## this is not compulsury to write\n"
   ]
  },
  {
   "cell_type": "code",
   "execution_count": 3,
   "metadata": {},
   "outputs": [
    {
     "name": "stdout",
     "output_type": "stream",
     "text": [
      "WARNING:tensorflow:From /home/pirate/anaconda2/lib/python2.7/site-packages/tensorflow/python/framework/op_def_library.py:263: colocate_with (from tensorflow.python.framework.ops) is deprecated and will be removed in a future version.\n",
      "Instructions for updating:\n",
      "Colocations handled automatically by placer.\n"
     ]
    }
   ],
   "source": [
    "## now we need to add weight/Variable in tensorflow\n",
    "## we select random number as a Weight\n",
    "## and we need to add bias term \n",
    "W = tf.Variable(tf.random_normal([n_features,n_dense_nurons]))\n",
    "## n_featture is column of 2D array\n",
    "## and n_dense_nurons is the row\n",
    "## relatablke to the theory\n"
   ]
  },
  {
   "cell_type": "code",
   "execution_count": 4,
   "metadata": {},
   "outputs": [],
   "source": [
    "##and we add the 1 as a bias term so we have to add a one matrix\n",
    "b = tf.Variable(tf.random_normal([n_dense_nurons]))\n",
    "## remember the array you creating must be like this matrix multiplication\n",
    "## like this matrix column has to match other number of rows"
   ]
  },
  {
   "cell_type": "code",
   "execution_count": 5,
   "metadata": {},
   "outputs": [],
   "source": [
    "### now we need  fnctionality\n",
    "### and it will be a matrix multiplication\n",
    "xW = tf.matmul(x,W)\n",
    "z=tf.add(xW,b)\n"
   ]
  },
  {
   "cell_type": "code",
   "execution_count": 6,
   "metadata": {},
   "outputs": [],
   "source": [
    "## now we need the activation function\n",
    "##we use the sigmoid function\n",
    "a=tf.sigmoid(z)"
   ]
  },
  {
   "cell_type": "code",
   "execution_count": 7,
   "metadata": {},
   "outputs": [],
   "source": [
    "## we have to initialize the variable\n",
    "init =tf.global_variables_initializer()"
   ]
  },
  {
   "cell_type": "code",
   "execution_count": 8,
   "metadata": {},
   "outputs": [],
   "source": [
    "with tf.Session() as sess:\n",
    "    sess.run(init)## init the system\n",
    "    ## now we need to feed the data to a place holder\n",
    "    layer_out = sess.run(a,feed_dict={x:np.random.random([1,n_features])})\n",
    "    #np.random.random([1,10])  ## that mes the first row of the whole feature\n",
    "    ## an 1D array of 10 number"
   ]
  },
  {
   "cell_type": "code",
   "execution_count": 9,
   "metadata": {},
   "outputs": [
    {
     "name": "stdout",
     "output_type": "stream",
     "text": [
      "[[0.02852437 0.9089444  0.4444624 ]]\n"
     ]
    }
   ],
   "source": [
    "print(layer_out)"
   ]
  },
  {
   "cell_type": "code",
   "execution_count": 10,
   "metadata": {},
   "outputs": [],
   "source": [
    "## we do not add cost function\n",
    "## case the dense layer has three nurons we got three result\n",
    "## and because of the sigmoid function we get the value 0-1"
   ]
  },
  {
   "cell_type": "markdown",
   "metadata": {},
   "source": [
    "# SIMPLE REGRESSION MODEL"
   ]
  },
  {
   "cell_type": "code",
   "execution_count": 11,
   "metadata": {},
   "outputs": [],
   "source": [
    "x_data = np.linspace(0,10,10)+np.random.uniform(-1.5,1.5,10)\n",
    "## value linearly space between 0 to 10 \n",
    "## and we add noise to that just we add random that either add or subtract the number"
   ]
  },
  {
   "cell_type": "code",
   "execution_count": 12,
   "metadata": {},
   "outputs": [
    {
     "name": "stdout",
     "output_type": "stream",
     "text": [
      "[-0.59706618  1.59013983  0.75690359  2.47174862  5.69595474  4.30654718\n",
      "  5.36828406  7.81448107  9.16435954 10.1246275 ]\n"
     ]
    }
   ],
   "source": [
    "print (x_data)"
   ]
  },
  {
   "cell_type": "code",
   "execution_count": 13,
   "metadata": {},
   "outputs": [],
   "source": [
    "y_label = np.linspace(0,10,10)+np.random.uniform(-1.5,1.5,10)\n",
    "## x data and u data for plotting"
   ]
  },
  {
   "cell_type": "code",
   "execution_count": 14,
   "metadata": {},
   "outputs": [
    {
     "data": {
      "text/plain": [
       "[<matplotlib.lines.Line2D at 0x7fc0a40d1090>]"
      ]
     },
     "execution_count": 14,
     "metadata": {},
     "output_type": "execute_result"
    },
    {
     "data": {
      "image/png": "[encoded data removed]",
      "text/plain": [
       "<Figure size 432x288 with 1 Axes>"
      ]
     },
     "metadata": {},
     "output_type": "display_data"
    }
   ],
   "source": [
    "import matplotlib.pyplot as plt\n",
    "%matplotlib inline\n",
    "plt.plot(x_data,y_label)\n"
   ]
  },
  {
   "cell_type": "code",
   "execution_count": 15,
   "metadata": {},
   "outputs": [
    {
     "data": {
      "text/plain": [
       "[<matplotlib.lines.Line2D at 0x7fc0da7fdcd0>]"
      ]
     },
     "execution_count": 15,
     "metadata": {},
     "output_type": "execute_result"
    },
    {
     "data": {
      "image/png": "[encoded data removed]",
      "text/plain": [
       "<Figure size 432x288 with 1 Axes>"
      ]
     },
     "metadata": {},
     "output_type": "display_data"
    }
   ],
   "source": [
    "plt.plot(x_data,y_label,'*')"
   ]
  },
  {
   "cell_type": "code",
   "execution_count": 16,
   "metadata": {},
   "outputs": [],
   "source": [
    "## y=mx+b this will be the regression algo\n",
    "m=tf.Variable(0.44)  ## m in the equation is a weight\n",
    "                 ## we set a value for that\n",
    "b=tf.Variable(0.87) ## is the bias"
   ]
  },
  {
   "cell_type": "markdown",
   "metadata": {},
   "source": [
    "## lets make the cost function"
   ]
  },
  {
   "cell_type": "code",
   "execution_count": 17,
   "metadata": {},
   "outputs": [],
   "source": [
    "error = 0\n",
    "actual_pred=y_label\n",
    "for x,y in zip(x_data,y_label): # this zip function create pair of x and y tuple \n",
    "    y_pred_value = m*x + b #this is just a linear equation\n",
    "    ## but the m and b is random we need to adjust as like the regression\n",
    "    ## to get a fitted line so we first count the error\n",
    "    \n",
    "    error +=(actual_pred-y_pred_value)**2 ##we make it bigger for calculation with\n",
    "                                          ## square\n",
    "    "
   ]
  },
  {
   "cell_type": "markdown",
   "metadata": {},
   "source": [
    "#### ok cost function is ready now we need to optimize/adjust\n",
    "## we optimize with gradient decent\n",
    "\n",
    "\n"
   ]
  },
  {
   "cell_type": "code",
   "execution_count": 18,
   "metadata": {},
   "outputs": [],
   "source": [
    "optimizer = tf.train.GradientDescentOptimizer(learning_rate=0.001)\n",
    "## learning rate is vvi cause if it is very high it overlook significant things(overshoot problem)\n",
    "## if it is very low its gonna take forever\n"
   ]
  },
  {
   "cell_type": "code",
   "execution_count": 19,
   "metadata": {},
   "outputs": [],
   "source": [
    "train = optimizer.minimize(error)"
   ]
  },
  {
   "cell_type": "markdown",
   "metadata": {},
   "source": [
    "## if you dont optimize and reduce the error then you are not doing learning you are just applying a equation"
   ]
  },
  {
   "cell_type": "code",
   "execution_count": 20,
   "metadata": {},
   "outputs": [],
   "source": [
    "## init this thing\n",
    "init = tf.global_variables_initializer()"
   ]
  },
  {
   "cell_type": "code",
   "execution_count": 21,
   "metadata": {},
   "outputs": [],
   "source": [
    "## running \n",
    "with tf.Session() as sess:\n",
    "    sess.run(init)\n",
    "    train_steps = 1 ## how many times we train /epoch\n",
    "    \n",
    "    for i in range(train_steps):\n",
    "        ## remember tensorflow keeps record even if you run\n",
    "        ## one command more than one time\n",
    "        sess.run(train)\n",
    "        #final_slope = m final_intercept = b after optimization\n",
    "        final_slope,final_intercept = sess.run([m,b])"
   ]
  },
  {
   "cell_type": "code",
   "execution_count": 22,
   "metadata": {},
   "outputs": [
    {
     "data": {
      "text/plain": [
       "[<matplotlib.lines.Line2D at 0x7fc09d38a2d0>]"
      ]
     },
     "execution_count": 22,
     "metadata": {},
     "output_type": "execute_result"
    },
    {
     "data": {
      "image/png": "[encoded data removed]",
      "text/plain": [
       "<Figure size 432x288 with 1 Axes>"
      ]
     },
     "metadata": {},
     "output_type": "display_data"
    }
   ],
   "source": [
    "## now create the test dataset\n",
    "x_test = np.linspace(-1,11,10) ## 10 data between -1 to 11\n",
    "### y=mx+b\n",
    "y_pred_plot = final_slope*x_test+final_intercept \n",
    "plt.plot(x_test,y_pred_plot)\n",
    "plt.plot(x_data,y_label,'*')\n",
    "\n",
    "## now we can improve it my doing more epoch"
   ]
  },
  {
   "cell_type": "code",
   "execution_count": 27,
   "metadata": {},
   "outputs": [
    {
     "data": {
      "text/plain": [
       "array([1, 0, 2, 2, 0, 2, 2, 2])"
      ]
     },
     "execution_count": 27,
     "metadata": {},
     "output_type": "execute_result"
    }
   ],
   "source": [
    "np.random.randint(3,size=8)"
   ]
  },
  {
   "cell_type": "code",
   "execution_count": null,
   "metadata": {},
   "outputs": [],
   "source": []
  }
 ],
 "metadata": {
  "kernelspec": {
   "display_name": "Python 2",
   "language": "python",
   "name": "python2"
  },
  "language_info": {
   "codemirror_mode": {
    "name": "ipython",
    "version": 2
   },
   "file_extension": ".py",
   "mimetype": "text/x-python",
   "name": "python",
   "nbconvert_exporter": "python",
   "pygments_lexer": "ipython2",
   "version": "2.7.15"
  }
 },
 "nbformat": 4,
 "nbformat_minor": 2
}
