{
 "cells": [
  {
   "cell_type": "markdown",
   "metadata": {},
   "source": [
    "# first nural network with tensorflow"
   ]
  },
  {
   "cell_type": "markdown",
   "metadata": {},
   "source": [
    "<img src=\"Selection_001.png\">"
   ]
  },
  {
   "cell_type": "markdown",
   "metadata": {},
   "source": [
    "### we are going to make this nural network with tensorflow"
   ]
  },
  {
   "cell_type": "code",
   "execution_count": 1,
   "metadata": {},
   "outputs": [],
   "source": [
    "## it does very simple linear fit to 2 dimentional array"
   ]
  },
  {
   "cell_type": "markdown",
   "metadata": {},
   "source": [
    "### we build \n",
    "###                1) A graph\n",
    "###                2) Initiate the SEssion\n",
    "###                3) Feed data in and get output"
   ]
  },
  {
   "cell_type": "code",
   "execution_count": 2,
   "metadata": {},
   "outputs": [
    {
     "name": "stderr",
     "output_type": "stream",
     "text": [
      "/home/pirate/anaconda2/lib/python2.7/site-packages/h5py/__init__.py:36: FutureWarning: Conversion of the second argument of issubdtype from `float` to `np.floating` is deprecated. In future, it will be treated as `np.float64 == np.dtype(float).type`.\n",
      "  from ._conv import register_converters as _register_converters\n"
     ]
    }
   ],
   "source": [
    "import numpy as np\n",
    "import tensorflow as tf"
   ]
  },
  {
   "cell_type": "code",
   "execution_count": 3,
   "metadata": {},
   "outputs": [],
   "source": [
    "## set up the  seed\n",
    "np.random.seed(101)\n",
    "tf.set_random_seed(101)"
   ]
  },
  {
   "cell_type": "code",
   "execution_count": 4,
   "metadata": {},
   "outputs": [],
   "source": [
    "rand_a = np.random.uniform(1,100,(5,5))"
   ]
  },
  {
   "cell_type": "code",
   "execution_count": 5,
   "metadata": {},
   "outputs": [
    {
     "name": "stdout",
     "output_type": "stream",
     "text": [
      "[[52.12346414 57.4960911   3.81894842 17.98064397 68.84242119]\n",
      " [83.5557894  31.38965575 89.46769489 72.43284232 19.80395647]\n",
      " [55.86853152 35.86106345 19.00734786 78.77457442 96.58283902]\n",
      " [24.00301252  9.27258193 60.75129381 73.17028297 28.34764402]\n",
      " [68.84532655 52.26887995  5.79996921 14.64905452 19.50977519]]\n"
     ]
    }
   ],
   "source": [
    "print rand_a"
   ]
  },
  {
   "cell_type": "code",
   "execution_count": 6,
   "metadata": {},
   "outputs": [],
   "source": [
    "rand_b = np.random.uniform(0,100,(5,1))"
   ]
  },
  {
   "cell_type": "code",
   "execution_count": 7,
   "metadata": {},
   "outputs": [
    {
     "name": "stdout",
     "output_type": "stream",
     "text": [
      "[[99.43179012]\n",
      " [52.06653967]\n",
      " [57.87895355]\n",
      " [73.48190583]\n",
      " [54.19617722]]\n"
     ]
    }
   ],
   "source": [
    "print rand_b"
   ]
  },
  {
   "cell_type": "markdown",
   "metadata": {},
   "source": [
    "#### this is for array multiplication"
   ]
  },
  {
   "cell_type": "code",
   "execution_count": 8,
   "metadata": {},
   "outputs": [],
   "source": [
    "## two data that means we need two place holders\n",
    "a = tf.placeholder(tf.float32)\n",
    "b = tf.placeholder(tf.float32)"
   ]
  },
  {
   "cell_type": "code",
   "execution_count": 11,
   "metadata": {},
   "outputs": [],
   "source": [
    "## now we create operationm\n",
    "add_op = a+b\n",
    "mul_op = a*b"
   ]
  },
  {
   "cell_type": "code",
   "execution_count": 16,
   "metadata": {},
   "outputs": [
    {
     "name": "stdout",
     "output_type": "stream",
     "text": [
      "30.0\n"
     ]
    }
   ],
   "source": [
    "with tf.Session() as sess:\n",
    "        ## SO THIS ARE PLACEHOLDER SO WE MUST PROVIDE DATA\n",
    "        add_result = sess.run(add_op,feed_dict={a:10,b:20})\n",
    "        print (add_result)"
   ]
  },
  {
   "cell_type": "code",
   "execution_count": 17,
   "metadata": {},
   "outputs": [
    {
     "name": "stdout",
     "output_type": "stream",
     "text": [
      "[[151.55525  156.92789  103.25074  117.41244  168.27422 ]\n",
      " [135.62233   83.45619  141.53424  124.49939   71.8705  ]\n",
      " [113.74748   93.74002   76.8863   136.65353  154.46179 ]\n",
      " [ 97.48492   82.754486 134.2332   146.65219  101.829544]\n",
      " [123.041504 106.46506   59.996147  68.84523   73.705956]]\n"
     ]
    }
   ],
   "source": [
    "with tf.Session() as sess:\n",
    "        ## SO THIS ARE PLACEHOLDER SO WE MUST PROVIDE DATA\n",
    "        add_result = sess.run(add_op,feed_dict={a:rand_a,b:rand_b})\n",
    "        print (add_result)"
   ]
  },
  {
   "cell_type": "code",
   "execution_count": 19,
   "metadata": {},
   "outputs": [
    {
     "name": "stdout",
     "output_type": "stream",
     "text": [
      "[[151.55525  156.92789  103.25074  117.41244  168.27422 ]\n",
      " [135.62233   83.45619  141.53424  124.49939   71.8705  ]\n",
      " [113.74748   93.74002   76.8863   136.65353  154.46179 ]\n",
      " [ 97.48492   82.754486 134.2332   146.65219  101.829544]\n",
      " [123.041504 106.46506   59.996147  68.84523   73.705956]]\n",
      "\n",
      "\n",
      "\n",
      "[[5182.7295  5716.9395   379.72488 1787.8477  6845.1255 ]\n",
      " [4350.4604  1634.3508  4658.2734  3771.3276  1031.1235 ]\n",
      " [3233.612   2075.6008  1100.1254  4559.3896  5590.114  ]\n",
      " [1763.787    681.367   4464.1206  5376.6914  2083.0388 ]\n",
      " [3731.1538  2832.7734   314.33615  793.9228  1057.3552 ]]\n"
     ]
    }
   ],
   "source": [
    "with tf.Session() as sess:\n",
    "        ## SO THIS ARE PLACEHOLDER SO WE MUST PROVIDE DATA\n",
    "        add_result = sess.run(add_op,feed_dict={a:rand_a,b:rand_b})\n",
    "        print (add_result)\n",
    "        print (\"\\n\\n\")\n",
    "        mull_result = sess.run(mul_op,feed_dict={a:rand_a,b:rand_b})\n",
    "        print (mull_result)"
   ]
  },
  {
   "cell_type": "code",
   "execution_count": 20,
   "metadata": {},
   "outputs": [
    {
     "name": "stdout",
     "output_type": "stream",
     "text": [
      "[[ 0.3393362   0.47084194  0.0114582 ]\n",
      " [-0.23298067  1.0963182   1.1501856 ]]\n"
     ]
    }
   ],
   "source": [
    "\n",
    "#this is for next lesson\n",
    "with tf.Session() as sess:\n",
    "        ## SO THIS ARE PLACEHOLDER SO WE MUST PROVIDE DATA\n",
    "        m=sess.run(tf.random_normal([2,3]))\n",
    "        print (m)"
   ]
  },
  {
   "cell_type": "code",
   "execution_count": 21,
   "metadata": {},
   "outputs": [
    {
     "data": {
      "text/plain": [
       "array([[0.91315356, 0.80792015, 0.40299783, 0.35722434, 0.95287671,\n",
       "        0.34363158, 0.86509982, 0.83027771, 0.53816145, 0.92246937]])"
      ]
     },
     "execution_count": 21,
     "metadata": {},
     "output_type": "execute_result"
    }
   ],
   "source": [
    "#np.random.random([1,10])  ## that mes the first row of the whole feature\n",
    "## an 1D array of 10 number"
   ]
  },
  {
   "cell_type": "code",
   "execution_count": null,
   "metadata": {},
   "outputs": [],
   "source": []
  }
 ],
 "metadata": {
  "kernelspec": {
   "display_name": "Python 2",
   "language": "python",
   "name": "python2"
  },
  "language_info": {
   "codemirror_mode": {
    "name": "ipython",
    "version": 2
   },
   "file_extension": ".py",
   "mimetype": "text/x-python",
   "name": "python",
   "nbconvert_exporter": "python",
   "pygments_lexer": "ipython2",
   "version": "2.7.15"
  }
 },
 "nbformat": 4,
 "nbformat_minor": 2
}
