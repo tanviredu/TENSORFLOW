{
 "cells": [
  {
   "cell_type": "markdown",
   "metadata": {},
   "source": [
    "## Nural network has \n",
    "\n",
    "<ul>\n",
    "        <li> Input Nodes </li>\n",
    "       <li> Output Nodes</li>\n",
    "        <li> Global Graph Variable</li>\n",
    "        <li> and a comput class which will be overwritten bt another class</li>\n",
    "        \n",
    "</ul>"
   ]
  },
  {
   "cell_type": "code",
   "execution_count": 35,
   "metadata": {},
   "outputs": [],
   "source": [
    "## first class operation\n",
    "\n",
    "class Operation():\n",
    "    \n",
    "    ##constructor\n",
    "    def __init__(self,input_nodes=[]): ## some input nodes we need to pass\n",
    "        self.input_nodes=input_nodes\n",
    "        self.output_nodes = [] ## leave the output nodes empty\n",
    "        \n",
    "        for node in input_nodes: ## every nodes has some method \n",
    "            node.output_nodes.append(self) ## we append it in this class the nodes \n",
    "                                            ## will be added in list \n",
    "                                            ## see the place holder\n",
    "        ## prottek ta noder ek set (list kore output node thakbe) jeta amra \n",
    "        ## prottek ta noder sathe add korbo ekta method e jeta place holder \n",
    "        # e deya ase\n",
    "                                            \n",
    "            \n",
    "            \n",
    "        ## this function will be overwritten\n",
    "    def compute(self):\n",
    "        pass"
   ]
  },
  {
   "cell_type": "code",
   "execution_count": 36,
   "metadata": {},
   "outputs": [],
   "source": [
    "class add(Operation):## we inherit the Operation class to change the compute function\n",
    "    \n",
    "    def __init__(self,x,y):  ## we use two input\n",
    "        super().__init__([x,y])\n",
    "        \n",
    "        \n",
    "    def compute(self,x_var,y_var):\n",
    "        self.inputs=[x_var,y_var]\n",
    "        return x_var+y_var"
   ]
  },
  {
   "cell_type": "code",
   "execution_count": 48,
   "metadata": {},
   "outputs": [],
   "source": [
    "class multiply(Operation): ## we inherit the Operation class to change the compute function\n",
    "    def __init__(self,x,y):  ## we use two input\n",
    "        super().__init__([x,y])\n",
    "        \n",
    "        \n",
    "    def compute(self,x_var,y_var):\n",
    "        self.inputs=[x_var,y_var]\n",
    "        return x_var*y_var"
   ]
  },
  {
   "cell_type": "code",
   "execution_count": 38,
   "metadata": {},
   "outputs": [],
   "source": [
    "class matmul(Operation): ## we inherit the Operation class to change the compute function\n",
    "    def __init__(self,x,y):  ## we use two input\n",
    "        super().__init__([x,y])\n",
    "        \n",
    "        \n",
    "    def compute(self,x_var,y_var):\n",
    "        self.inputs=[x_var,y_var]\n",
    "        return x_var.dot(y_var)"
   ]
  },
  {
   "cell_type": "markdown",
   "metadata": {},
   "source": [
    "## Three important thing\n",
    "<ul>\n",
    "    <li>Placeholder: An empty node thats need a value to compute output </li>\n",
    "    <li>Variables:   Changable parameter of the graph </li>\n",
    "    <li>Graph: global parameter that connects the variable and placeholder to operation</li>\n",
    "\n",
    "</ul>"
   ]
  },
  {
   "cell_type": "code",
   "execution_count": 39,
   "metadata": {},
   "outputs": [],
   "source": [
    "class Placeholder():\n",
    "    def __init__(self):\n",
    "        self.output_nodes = []  ## Place holder e amra sather node gula rakhbo\n",
    "        _default_graph.placeholders.append(self)"
   ]
  },
  {
   "cell_type": "code",
   "execution_count": 40,
   "metadata": {},
   "outputs": [],
   "source": [
    "class variable():\n",
    "    def __init__(self,initial_value=None):\n",
    "        self.value = initial_value\n",
    "        self.output_nodes = []\n",
    "        _default_graph.variables.append(self)"
   ]
  },
  {
   "cell_type": "code",
   "execution_count": 41,
   "metadata": {},
   "outputs": [],
   "source": [
    "class Graph():\n",
    "    def __init__(self):\n",
    "        self.operations = []\n",
    "        self.placeholders = []\n",
    "        self.variables = []\n",
    "        \n",
    "    def set_as_default(self):\n",
    "        \n",
    "        global _default_graph\n",
    "        _default_graph = self\n",
    "        "
   ]
  }
 ],
 "metadata": {
  "kernelspec": {
   "display_name": "Python 2",
   "language": "python",
   "name": "python2"
  },
  "language_info": {
   "codemirror_mode": {
    "name": "ipython",
    "version": 2
   },
   "file_extension": ".py",
   "mimetype": "text/x-python",
   "name": "python",
   "nbconvert_exporter": "python",
   "pygments_lexer": "ipython2",
   "version": "2.7.15"
  }
 },
 "nbformat": 4,
 "nbformat_minor": 2
}
