{
 "cells": [
  {
   "cell_type": "code",
   "execution_count": 5,
   "metadata": {},
   "outputs": [],
   "source": [
    "import numpy as np\n",
    "import pandas as pd\n",
    "import tensorflow as tf"
   ]
  },
  {
   "cell_type": "code",
   "execution_count": 6,
   "metadata": {},
   "outputs": [],
   "source": [
    "## import image data later\n",
    "dataset = None # import images here"
   ]
  },
  {
   "cell_type": "code",
   "execution_count": 7,
   "metadata": {},
   "outputs": [],
   "source": [
    "## Place holder for images data will be fed here\n",
    "img_holder = tf.placeholder(tf.float32,[None,748])\n",
    "label_holder = tf.placeholder(tf.float32,[None,10])\n",
    "\n",
    "## unknown row but column ins 748\n",
    "## label is unknown  (its actualy 10) column in 10\n",
    "\n",
    "## column of the place holder have to match the weight for \n",
    "## matrix multiplication"
   ]
  },
  {
   "cell_type": "code",
   "execution_count": 9,
   "metadata": {},
   "outputs": [],
   "source": [
    "## setting the layer\n",
    "## hidden node will be 200\n",
    "## means every layer will have 200 perceptron\n",
    "## and the last layer have have 10 perceptron\n",
    "hidden_nodes = 200\n",
    "out_nodes = 10\n",
    "\n",
    "#first column is 3 and row is 4\n",
    "# so the column and row have to be match\n",
    "\n",
    "## explanation\n",
    "#---------------------------\n",
    "#1,2 1,1,1\n",
    "#3,4 1,1,1\n",
    "\n",
    "#output:\n",
    " # 3,3,3\n",
    " # 4,4,4\n",
    "\n",
    "##---------------------------\n"
   ]
  },
  {
   "cell_type": "markdown",
   "metadata": {},
   "source": [
    "## [748,hidden_nodes]\n",
    "### that means this the multiply can happen and the output row will be 10"
   ]
  },
  {
   "cell_type": "code",
   "execution_count": 10,
   "metadata": {},
   "outputs": [
    {
     "name": "stdout",
     "output_type": "stream",
     "text": [
      "WARNING:tensorflow:From /home/pirate/anaconda2/lib/python2.7/site-packages/tensorflow/python/framework/op_def_library.py:263: colocate_with (from tensorflow.python.framework.ops) is deprecated and will be removed in a future version.\n",
      "Instructions for updating:\n",
      "Colocations handled automatically by placer.\n"
     ]
    }
   ],
   "source": [
    "#### we apply the mx+b ewuation to classify the images\n",
    "## we we need to apply the m and b as a VAriable\n",
    "## and as they are multi dimentional array we have to match the shape\n",
    "m0 = tf.Variable(tf.random_normal([748,hidden_nodes]))\n",
    "m1 = tf.Variable(tf.random_normal([hidden_nodes,hidden_nodes]))\n",
    "m2 = tf.Variable(tf.random_normal([hidden_nodes,hidden_nodes]))\n",
    "m3 = tf.Variable(tf.random_normal([hidden_nodes,out_nodes]))\n"
   ]
  },
  {
   "cell_type": "markdown",
   "metadata": {},
   "source": [
    "### final output has a row of 10"
   ]
  },
  {
   "cell_type": "code",
   "execution_count": 11,
   "metadata": {},
   "outputs": [],
   "source": [
    "## define the b means another Variable (bias )\n",
    "## and if you add two matrix size have to be  simmlier\n",
    "b0 = tf.Variable(tf.random_normal([hidden_nodes])) ##giving only parameter means row and column are same\n",
    "#first will be added with first\n",
    "b1 = tf.Variable(tf.random_normal([hidden_nodes]))\n",
    "b2 = tf.Variable(tf.random_normal([hidden_nodes]))\n",
    "b3 = tf.Variable(tf.random_normal([out_nodes]))\n",
    "\n",
    "## adding bias"
   ]
  },
  {
   "cell_type": "code",
   "execution_count": 12,
   "metadata": {},
   "outputs": [],
   "source": [
    "## creating layers\n",
    "## layer have function and activation function\n",
    "# function\n",
    "layer1 = tf.add(tf.matmul(img_holder,m0),b0)\n",
    "#activation function\n",
    "layer1 = tf.nn.relu(layer1)\n",
    "\n",
    "# function\n",
    "layer2 = tf.add(tf.matmul(layer1,m1),b1)\n",
    "#activation function\n",
    "layer2 = tf.nn.relu(layer2)\n",
    "\n",
    "\n",
    "# function\n",
    "layer3 = tf.add(tf.matmul(layer2,m2),b2)\n",
    "#activation function\n",
    "layer3 = tf.nn.relu(layer3)\n",
    "\n",
    "\n",
    "# function\n",
    "out_layer = tf.add(tf.matmul(layer3,m3),b3)\n",
    "#activation function\n",
    "##no need activation function needed we take all of it"
   ]
  },
  {
   "cell_type": "code",
   "execution_count": 13,
   "metadata": {},
   "outputs": [
    {
     "name": "stdout",
     "output_type": "stream",
     "text": [
      "WARNING:tensorflow:From <ipython-input-13-bbb93b49bbe5>:6: softmax_cross_entropy_with_logits (from tensorflow.python.ops.nn_ops) is deprecated and will be removed in a future version.\n",
      "Instructions for updating:\n",
      "\n",
      "Future major versions of TensorFlow will allow gradients to flow\n",
      "into the labels input on backprop by default.\n",
      "\n",
      "See `tf.nn.softmax_cross_entropy_with_logits_v2`.\n",
      "\n"
     ]
    }
   ],
   "source": [
    "## now we have to compute the loss\n",
    "## very easy\n",
    "## we use the softmax and cross entropy and the input will be the lastmatrix\n",
    "## that we called the out_layer\n",
    "## and label will be the labelholder array\n",
    "loss = tf.reduce_mean(tf.nn.softmax_cross_entropy_with_logits(logits=out_layer,labels=label_holder))\n"
   ]
  },
  {
   "cell_type": "code",
   "execution_count": 14,
   "metadata": {},
   "outputs": [],
   "source": [
    "## now make the optimizer\n",
    "learning_rate = 0.01\n",
    "## select the epoch\n",
    "num_epochs = 15\n",
    "\n",
    "optimizer = tf.train.AdamOptimizer(learning_rate=learning_rate).minimize(loss)"
   ]
  },
  {
   "cell_type": "code",
   "execution_count": 15,
   "metadata": {},
   "outputs": [],
   "source": [
    "## init the variable\n",
    "init = tf.global_variables_initializer()"
   ]
  },
  {
   "cell_type": "code",
   "execution_count": 17,
   "metadata": {},
   "outputs": [],
   "source": [
    "##lunch the session\n",
    "with tf.Session() as sess:\n",
    "    sess.run(init)\n",
    "    \n",
    "    for epoch in range(num_epochs):\n",
    "        sess.run(optimizer,feed_dict={img_holder:dataset.train.images,label_holder:dataset.train.labels,train:True})"
   ]
  },
  {
   "cell_type": "code",
   "execution_count": 18,
   "metadata": {},
   "outputs": [],
   "source": [
    "# prediction\n",
    "prediction = tf.argmax(out_layer,1)\n",
    "actual_value = tf.argmax(label_holder,1)"
   ]
  },
  {
   "cell_type": "code",
   "execution_count": null,
   "metadata": {},
   "outputs": [],
   "source": []
  },
  {
   "cell_type": "code",
   "execution_count": null,
   "metadata": {},
   "outputs": [],
   "source": []
  }
 ],
 "metadata": {
  "kernelspec": {
   "display_name": "Python 2",
   "language": "python",
   "name": "python2"
  },
  "language_info": {
   "codemirror_mode": {
    "name": "ipython",
    "version": 2
   },
   "file_extension": ".py",
   "mimetype": "text/x-python",
   "name": "python",
   "nbconvert_exporter": "python",
   "pygments_lexer": "ipython2",
   "version": "2.7.15"
  }
 },
 "nbformat": 4,
 "nbformat_minor": 2
}
