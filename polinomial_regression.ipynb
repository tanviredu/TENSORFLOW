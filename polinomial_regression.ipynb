{
 "cells": [
  {
   "cell_type": "code",
   "execution_count": 1,
   "metadata": {},
   "outputs": [
    {
     "name": "stderr",
     "output_type": "stream",
     "text": [
      "/home/pirate/anaconda2/lib/python2.7/site-packages/h5py/__init__.py:36: FutureWarning: Conversion of the second argument of issubdtype from `float` to `np.floating` is deprecated. In future, it will be treated as `np.float64 == np.dtype(float).type`.\n",
      "  from ._conv import register_converters as _register_converters\n"
     ]
    }
   ],
   "source": [
    "## we use a polinomial equation with the same thing \n",
    "## we do the same as the linear regression\n",
    "import tensorflow as tf\n",
    "import numpy as np \n",
    "import pandas as pd\n"
   ]
  },
  {
   "cell_type": "code",
   "execution_count": 2,
   "metadata": {},
   "outputs": [],
   "source": [
    "## the equation witll be the ax^3+bx^2+cx+d\n",
    "## we input the real data here\n",
    "N=40\n",
    "## this will be a place holder in model\n",
    "x=tf.random_normal([N])\n",
    "## these are variable means weight\n",
    "a_real = tf.truncated_normal([N])\n",
    "b_real = tf.truncated_normal([N])\n",
    "c_real = tf.truncated_normal([N])\n",
    "d_real = tf.truncated_normal([N])\n",
    "### another placeholder is the model it self"
   ]
  },
  {
   "cell_type": "code",
   "execution_count": 3,
   "metadata": {},
   "outputs": [],
   "source": [
    "##  y value\n",
    "y = a_real*tf.pow(x,3)+b_real*tf.pow(x,2)+c_real*x+d_real"
   ]
  },
  {
   "cell_type": "markdown",
   "metadata": {},
   "source": [
    "### lets create the model"
   ]
  },
  {
   "cell_type": "code",
   "execution_count": 4,
   "metadata": {},
   "outputs": [
    {
     "name": "stdout",
     "output_type": "stream",
     "text": [
      "WARNING:tensorflow:From /home/pirate/anaconda2/lib/python2.7/site-packages/tensorflow/python/framework/op_def_library.py:263: colocate_with (from tensorflow.python.framework.ops) is deprecated and will be removed in a future version.\n",
      "Instructions for updating:\n",
      "Colocations handled automatically by placer.\n"
     ]
    }
   ],
   "source": [
    "#we create variable whose value changble its the weight \n",
    "a=tf.Variable(tf.random_normal([]))\n",
    "b=tf.Variable(tf.random_normal([]))\n",
    "c=tf.Variable(tf.random_normal([]))\n",
    "d=tf.Variable(tf.random_normal([]))"
   ]
  },
  {
   "cell_type": "code",
   "execution_count": 5,
   "metadata": {},
   "outputs": [],
   "source": [
    "#model and the loss they are the placeholder\n",
    "model = a*tf.pow(x,3)+b*tf.pow(x,2)+c*x+d"
   ]
  },
  {
   "cell_type": "code",
   "execution_count": 6,
   "metadata": {},
   "outputs": [],
   "source": [
    "## now the loss function\n",
    "loss = tf.reduce_mean(pow(model-y,2))"
   ]
  },
  {
   "cell_type": "code",
   "execution_count": 7,
   "metadata": {},
   "outputs": [],
   "source": [
    "## create the optimizer \n",
    "learning_rate = 0.01\n",
    "num_epoch = 200\n",
    "\n",
    "optimizer = tf.train.GradientDescentOptimizer(learning_rate).minimize(loss)"
   ]
  },
  {
   "cell_type": "code",
   "execution_count": 8,
   "metadata": {},
   "outputs": [],
   "source": [
    "## initilize the variable\n",
    "init  = tf.global_variables_initializer()"
   ]
  },
  {
   "cell_type": "code",
   "execution_count": 10,
   "metadata": {},
   "outputs": [
    {
     "name": "stdout",
     "output_type": "stream",
     "text": [
      "a -0.150199\n",
      "b -0.13291952\n",
      "c -0.42637196\n",
      "d -0.03511557\n"
     ]
    }
   ],
   "source": [
    "## run the whole graph\n",
    "\n",
    "with tf.Session() as sess:\n",
    "    sess.run(init)\n",
    "    for epoch in range(num_epoch):\n",
    "        sess.run(optimizer)\n",
    "    print (\"a \"+str(sess.run(a)))\n",
    "    print (\"b \"+str(sess.run(b)))\n",
    "    print (\"c \"+str(sess.run(c)))\n",
    "    print (\"d \"+str(sess.run(d)))"
   ]
  },
  {
   "cell_type": "markdown",
   "metadata": {},
   "source": [
    "## polinomial regression"
   ]
  },
  {
   "cell_type": "code",
   "execution_count": null,
   "metadata": {},
   "outputs": [],
   "source": []
  }
 ],
 "metadata": {
  "kernelspec": {
   "display_name": "Python 2",
   "language": "python",
   "name": "python2"
  },
  "language_info": {
   "codemirror_mode": {
    "name": "ipython",
    "version": 2
   },
   "file_extension": ".py",
   "mimetype": "text/x-python",
   "name": "python",
   "nbconvert_exporter": "python",
   "pygments_lexer": "ipython2",
   "version": "2.7.15"
  }
 },
 "nbformat": 4,
 "nbformat_minor": 2
}
